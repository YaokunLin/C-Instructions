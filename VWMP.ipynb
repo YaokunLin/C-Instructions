{
  "nbformat": 4,
  "nbformat_minor": 0,
  "metadata": {
    "colab": {
      "name": "VWMP.ipynb",
      "provenance": [],
      "collapsed_sections": [],
      "authorship_tag": "ABX9TyMB0ZH6raGRE8WdIUvDy/le",
      "include_colab_link": true
    },
    "kernelspec": {
      "name": "python3",
      "display_name": "Python 3"
    },
    "language_info": {
      "name": "python"
    }
  },
  "cells": [
    {
      "cell_type": "markdown",
      "metadata": {
        "id": "view-in-github",
        "colab_type": "text"
      },
      "source": [
        "<a href=\"https://colab.research.google.com/github/YaokunLin/C-Instructions/blob/main/VWMP.ipynb\" target=\"_parent\"><img src=\"https://colab.research.google.com/assets/colab-badge.svg\" alt=\"Open In Colab\"/></a>"
      ]
    },
    {
      "cell_type": "code",
      "metadata": {
        "id": "CFj-v-tpZ4Jt"
      },
      "source": [
        "import time\n",
        "import datetime\n",
        "from datetime import datetime, timedelta, date\n",
        "import requests\n",
        "import json\n",
        "\n",
        "# API documentation\n",
        "# https://docs.cloud.coinbase.com/exchange/reference/exchangerestapi_getproductcandles\n",
        "'''\n",
        "Historic rates for a product. Rates are returned in grouped buckets. \n",
        "Candle schema is of the form \n",
        "[timestamp, price_low, price_high, price_open, price_close]\n",
        "\n",
        "max only 300 candles per requests \n",
        "'''\n",
        "class VWAPCalculator(object):\n",
        "  def __init__(self, pair = 'BTC-USD', endDate = None, windowSize = 200, dayDelta = 1):\n",
        "    self._pair = pair\n",
        "    self._apiUrl = 'https://api.pro.coinbase.com'\n",
        "    self._windowSize = windowSize\n",
        "    self._dayDelta = dayDelta\n",
        "    endYr, endMonth, endDay = list(map(int, endDate.split('-'))) if endDate else [None, None, None]\n",
        "    self._chosenDate = date(endYr, endMonth, endDay) if endDate else date.today()\n",
        "    self._dateStart, self._dateEnd = self.calDates()\n",
        "  \n",
        "  def calDates(self):\n",
        "    dateEnd = self._chosenDate\n",
        "    dayDelta = timedelta(days = self._dayDelta) #intra-day when self._dayDelta = 1\n",
        "    dateStart = dateEnd - (self._windowSize - 1) * dayDelta #subtract 1 to keep only 200 data points otherwise it would be 201 points\n",
        "    return dateStart.isoformat(), dateEnd.isoformat()\n",
        "  \n",
        "  def refreshApi(self):\n",
        "    parameters = {'start':self._dateStart,\n",
        "                  'end':self._dateEnd,\n",
        "                  'granularity': 86400}\n",
        "    #The granularity field must be one of the following values: \n",
        "    #{60, 300, 900, 3600, 21600, 86400}. \n",
        "    #Otherwise, your request will be rejected. \n",
        "    #These values correspond to timeslices representing \n",
        "    #one minute, five minutes, fifteen minutes, one hour, six hours, and one day, respectively.\n",
        "    response = requests.get(f\"{self._apiUrl}/products/{self._pair}/candles\",\n",
        "                        params = parameters,\n",
        "                        headers = {'content-type':'application/json'})\n",
        "    \n",
        "    self._response = response.json()\n",
        "    '''\n",
        "    Response Items\n",
        "    Each bucket is an array of the following information:\n",
        "\n",
        "    1. time bucket start time\n",
        "    2. low lowest price during the bucket interval\n",
        "    3. high highest price during the bucket interval\n",
        "    4. open opening price (first trade) in the bucket interval\n",
        "    5. close closing price (last trade) in the bucket interval\n",
        "    6. volume volume of trading activity during the bucket interval\n",
        "    '''\n",
        "\n",
        "  def getVWAP(self):\n",
        "    closeTimesVol=[close * vol for time, low, high, open, close, vol in self._response]\n",
        "    sumVol = sum([vol for time, low, high, open, close, vol in self._response])\n",
        "    if sumVol == 0: raise ZeroDivisionError(\"Data Not Avaliable\")\n",
        "    self._VWAP = sum(closeTimesVol)/sumVol\n",
        "    return self._VWAP\n",
        "\n",
        "  def __str__(self):\n",
        "    dayDelta = timedelta(days = self._dayDelta)\n",
        "    windwSize = len(self._response)\n",
        "    return f\"{self._pair}, Fr: {self._chosenDate - windwSize * dayDelta}, To: {self._chosenDate}, windwSize, {windwSize}, VWAP: ${self._VWAP}\"\n",
        "\n",
        "  def updateDate(self, endDate):\n",
        "    endYr, endMonth, endDay = list(map(int, endDate.split('-')))\n",
        "    self._chosenDate = date(endYr, endMonth, endDay)\n",
        "    self._dateStart, self._dateEnd = self.calDates()\n",
        "\n"
      ],
      "execution_count": 206,
      "outputs": []
    },
    {
      "cell_type": "code",
      "metadata": {
        "colab": {
          "base_uri": "https://localhost:8080/"
        },
        "id": "1yCQOegMh-Vi",
        "outputId": "ebfb81f3-6b94-47ad-aa77-32d4106db217"
      },
      "source": [
        "import time\n",
        "print(\"Today's date:\", date.today())\n",
        "\n",
        "t0 = time.process_time()\n",
        "btcUsdVwaps = VWAPCalculator() # dafault window is [today - 199 days, today]\n",
        "btcUsdVwaps.refreshApi()\n",
        "_ = btcUsdVwaps.getVWAP()\n",
        "print(btcUsdVwaps)\n",
        "t1 = time.process_time()\n",
        "exeTime = t1 - t0\n",
        "print('exe time:', exeTime)\n",
        "\n",
        "\n",
        "print('----tests----')\n",
        "testDates = sorted(['2021-01-01','2020-01-01','2022-01-01', '2021-11-11', '2015-10-15', '2015-07-20'])\n",
        "\n",
        "for d in testDates:\n",
        "  btcUsdVwaps.updateDate(d)\n",
        "  btcUsdVwaps.refreshApi()\n",
        "  _ = btcUsdVwaps.getVWAP()\n",
        "  print(btcUsdVwaps)\n"
      ],
      "execution_count": 208,
      "outputs": [
        {
          "output_type": "stream",
          "name": "stdout",
          "text": [
            "Today's date: 2021-11-10\n",
            "BTC-USD, Fr: 2021-04-24, To: 2021-11-10, windwSize, 200, VWAP: $44444.989169378736\n",
            "exe time: 0.015786482999999407\n",
            "----tests----\n",
            "BTC-USD, Fr: 2015-07-19, To: 2015-07-20, windwSize, 1, VWAP: $280.0\n",
            "BTC-USD, Fr: 2015-07-19, To: 2015-10-15, windwSize, 88, VWAP: $245.52869445853514\n",
            "BTC-USD, Fr: 2019-06-15, To: 2020-01-01, windwSize, 200, VWAP: $9798.874411759945\n",
            "BTC-USD, Fr: 2020-06-15, To: 2021-01-01, windwSize, 200, VWAP: $14998.043490869468\n",
            "BTC-USD, Fr: 2021-04-26, To: 2021-11-11, windwSize, 199, VWAP: $44424.352391603046\n",
            "BTC-USD, Fr: 2021-08-06, To: 2022-01-01, windwSize, 148, VWAP: $45393.96045656661\n"
          ]
        }
      ]
    },
    {
      "cell_type": "code",
      "metadata": {
        "colab": {
          "base_uri": "https://localhost:8080/"
        },
        "id": "Cd0VZveL8VEj",
        "outputId": "b284fdec-d1df-436a-e106-1102a38a8149"
      },
      "source": [
        "print(\"Today's date:\", date.today())\n",
        "\n",
        "t0 = time.process_time()\n",
        "ethUsdVwaps = VWAPCalculator(pair = 'ETH-USD') # dafault window is [today - 199 days, today]\n",
        "ethUsdVwaps.refreshApi()\n",
        "_ = ethUsdVwaps.getVWAP()\n",
        "print(ethUsdVwaps)\n",
        "t1 = time.process_time()\n",
        "exeTime = t1 - t0\n",
        "print('exe time:', exeTime)\n",
        "\n",
        "print('----tests----')\n",
        "testDates = sorted(['2021-01-01','2020-01-01','2022-01-01', '2021-11-11', '2016-09-30', '2016-05-18'])\n",
        "\n",
        "for d in testDates:\n",
        "  ethUsdVwaps.updateDate(d)\n",
        "  ethUsdVwaps.refreshApi()\n",
        "  _ = ethUsdVwaps.getVWAP()\n",
        "  print(ethUsdVwaps)"
      ],
      "execution_count": 202,
      "outputs": [
        {
          "output_type": "stream",
          "name": "stdout",
          "text": [
            "Today's date: 2021-11-10\n",
            "ETH-USD, Fr: 2021-04-24, To: 2021-11-10, windwSize, 200, VWAP: $2961.8498815107514\n",
            "exe time: 0.01475369799999271\n",
            "----tests----\n",
            "ETH-USD, Fr: 2016-05-17, To: 2016-05-18, windwSize, 1, VWAP: $13.18\n",
            "ETH-USD, Fr: 2016-05-19, To: 2016-09-30, windwSize, 134, VWAP: $12.46493878221231\n",
            "ETH-USD, Fr: 2019-06-15, To: 2020-01-01, windwSize, 200, VWAP: $211.30496150602426\n",
            "ETH-USD, Fr: 2020-06-15, To: 2021-01-01, windwSize, 200, VWAP: $439.81925260179594\n",
            "ETH-USD, Fr: 2021-04-26, To: 2021-11-11, windwSize, 199, VWAP: $2964.930936541681\n",
            "ETH-USD, Fr: 2021-08-06, To: 2022-01-01, windwSize, 148, VWAP: $3001.2679498129773\n"
          ]
        }
      ]
    },
    {
      "cell_type": "code",
      "metadata": {
        "colab": {
          "base_uri": "https://localhost:8080/"
        },
        "id": "GKW2VICY9UGs",
        "outputId": "90ad5a40-4332-47a7-9736-7b1107c381cb"
      },
      "source": [
        "print(\"Today's date:\", date.today())\n",
        "\n",
        "t0 = time.process_time()\n",
        "ethBtcVwaps = VWAPCalculator(pair = 'ETH-BTC') # dafault window is [today - 199 days, today]\n",
        "ethBtcVwaps.refreshApi()\n",
        "_ = ethBtcVwaps.getVWAP()\n",
        "print(ethBtcVwaps)\n",
        "t1 = time.process_time()\n",
        "exeTime = t1 - t0\n",
        "print('exe time:', exeTime)\n",
        "\n",
        "print('----tests----')\n",
        "testDates = sorted(['2021-01-01','2020-01-01','2022-01-01', '2021-11-11', '2016-09-30', '2016-05-18'])\n",
        "\n",
        "for d in testDates:\n",
        "  ethBtcVwaps.updateDate(d)\n",
        "  ethBtcVwaps.refreshApi()\n",
        "  _ = ethBtcVwaps.getVWAP()\n",
        "  print(ethBtcVwaps)"
      ],
      "execution_count": 201,
      "outputs": [
        {
          "output_type": "stream",
          "name": "stdout",
          "text": [
            "Today's date: 2021-11-10\n",
            "ETH-BTC, Fr: 2021-04-24, To: 2021-11-10, windwSize, 200, VWAP: $0.06622987517922944\n",
            "exe time: 0.017401953999993225\n",
            "----tests----\n",
            "ETH-BTC, Fr: 2016-05-17, To: 2016-05-18, windwSize, 1, VWAP: $0.0293\n",
            "ETH-BTC, Fr: 2016-05-18, To: 2016-09-30, windwSize, 135, VWAP: $0.02033232382213174\n",
            "ETH-BTC, Fr: 2019-06-15, To: 2020-01-01, windwSize, 200, VWAP: $0.02197601925178166\n",
            "ETH-BTC, Fr: 2020-06-15, To: 2021-01-01, windwSize, 200, VWAP: $0.030595392942664668\n",
            "ETH-BTC, Fr: 2021-04-26, To: 2021-11-11, windwSize, 199, VWAP: $0.06634663634701914\n",
            "ETH-BTC, Fr: 2021-08-06, To: 2022-01-01, windwSize, 148, VWAP: $0.06652584946447807\n"
          ]
        }
      ]
    },
    {
      "cell_type": "code",
      "metadata": {
        "id": "C5kOr8e1Ah2d"
      },
      "source": [
        "import unittest\n",
        "\n",
        "class TestVWAPCalculator(unittest.TestCase):\n",
        "\n",
        "    def test_btcUsd1(self):\n",
        "        '''Test case function for btcUsd'''\n",
        "        self.calc = VWAPCalculator(windowSize = 1)\n",
        "        self.calc.updateDate('2021-11-08')\n",
        "        self.calc.refreshApi()\n",
        "        result = self.calc.getVWAP()\n",
        "        expected = 67554.84\n",
        "        self.assertEqual(round(result, 5), round(expected, 5))\n",
        "\n",
        "    def test_btcUsd2(self):\n",
        "        '''Test case function for btcUsd'''\n",
        "        self.calc = VWAPCalculator(windowSize = 2)\n",
        "        self.calc.updateDate('2021-11-08')\n",
        "        self.calc.refreshApi()\n",
        "        result = self.calc.getVWAP()\n",
        "        expected = (67554.84 * 17661.872972 + 63309.13 * 5596.024607) / (17661.872972 + 5596.024607)  \n",
        "        self.assertEqual(round(result, 5), round(expected, 5))\n",
        "  \n",
        "    def test_ethUSD1(self):\n",
        "        '''Test case function for ethUsd'''\n",
        "        self.calc = VWAPCalculator(windowSize = 2, pair = 'ETH-USD')\n",
        "        self.calc.updateDate('2021-11-08')\n",
        "        self.calc.refreshApi()\n",
        "        result = self.calc.getVWAP()\n",
        "        expected = (4811.90 * 163884.293503 + 4617.02 * 85312.856137) / (163884.293503 + 85312.856137)  \n",
        "        self.assertEqual(round(result, 5), round(expected, 5))\n",
        "\n",
        "    def test_ethUSD2(self):\n",
        "        '''Test case function for ethUsd'''\n",
        "        self.calc = VWAPCalculator(windowSize = 1, pair = 'ETH-USD')\n",
        "        self.calc.updateDate('2021-10-22')\n",
        "        self.calc.refreshApi()\n",
        "        result = self.calc.getVWAP()\n",
        "        expected = 3971.55  \n",
        "        self.assertEqual(round(result, 5), round(expected, 5))\n",
        "\n",
        "    def test_ethBTC1(self):\n",
        "        '''Test case function for ethUsd'''\n",
        "        self.calc = VWAPCalculator(windowSize = 2, pair = 'ETH-BTC')\n",
        "        self.calc.updateDate('2021-11-02')\n",
        "        self.calc.refreshApi()\n",
        "        result = self.calc.getVWAP()\n",
        "        expected = (0.07262 * 36025.627982 + 0.07092 * 24140.364351) / (36025.627982 + 24140.364351)  \n",
        "        self.assertEqual(round(result, 5), round(expected, 5))\n",
        "\n",
        "    def test_ethBTC1(self):\n",
        "        '''Test case function for ethUsd'''\n",
        "        self.calc = VWAPCalculator(windowSize = 2, pair = 'ETH-BTC')\n",
        "        self.calc.updateDate('2021-11-02')\n",
        "        self.calc.refreshApi()\n",
        "        result = self.calc.getVWAP()\n",
        "        expected = (0.07262 * 36025.627982 + 0.07092 * 24140.364351) / (36025.627982 + 24140.364351)  \n",
        "        self.assertEqual(round(result, 5), round(expected, 5))\n",
        "\n",
        "    def test_ethBTC1(self):\n",
        "        '''Test case function for ethUsd'''\n",
        "        self.calc = VWAPCalculator(windowSize = 1, pair = 'ETH-BTC')\n",
        "        self.calc.updateDate('2016-05-18')\n",
        "        self.calc.refreshApi()\n",
        "        result = self.calc.getVWAP()\n",
        "        expected = 0.0293 \n",
        "        self.assertEqual(round(result, 5), round(expected, 5))"
      ],
      "execution_count": 248,
      "outputs": []
    },
    {
      "cell_type": "code",
      "metadata": {
        "colab": {
          "base_uri": "https://localhost:8080/"
        },
        "id": "p9gj1pt_q4x-",
        "outputId": "8df1fe74-0b97-4fad-a0fb-ad73d968d1f4"
      },
      "source": [
        "unittest.main(argv=[''], verbosity=2, exit=False)"
      ],
      "execution_count": 249,
      "outputs": [
        {
          "output_type": "stream",
          "name": "stderr",
          "text": [
            "test_btcUsd1 (__main__.TestCalculator)\n",
            "Test case function for btcUsd ... ok\n",
            "test_btcUsd2 (__main__.TestCalculator)\n",
            "Test case function for btcUsd ... ok\n",
            "test_btcUsd1 (__main__.TestVWAPCalculator)\n",
            "Test case function for btcUsd ... ok\n",
            "test_btcUsd2 (__main__.TestVWAPCalculator)\n",
            "Test case function for btcUsd ... ok\n",
            "test_ethBTC1 (__main__.TestVWAPCalculator)\n",
            "Test case function for ethUsd ... ok\n",
            "test_ethUSD1 (__main__.TestVWAPCalculator)\n",
            "Test case function for ethUsd ... ok\n",
            "test_ethUSD2 (__main__.TestVWAPCalculator)\n",
            "Test case function for ethUsd ... ok\n",
            "\n",
            "----------------------------------------------------------------------\n",
            "Ran 7 tests in 0.653s\n",
            "\n",
            "OK\n"
          ]
        },
        {
          "output_type": "execute_result",
          "data": {
            "text/plain": [
              "<unittest.main.TestProgram at 0x7efdd62a4dd0>"
            ]
          },
          "metadata": {},
          "execution_count": 249
        }
      ]
    },
    {
      "cell_type": "code",
      "metadata": {
        "id": "y4huNfEoeqZJ",
        "colab": {
          "base_uri": "https://localhost:8080/",
          "height": 704
        },
        "outputId": "57932c7d-a0c4-4c5f-8d20-2938fd6f47c0"
      },
      "source": [
        "# Scratch work for testing purposes\n",
        "# GET https://api.exchange.coinbase.com/products/{product_id}/candles\n",
        "\n",
        "import requests\n",
        "import pandas as pd\n",
        "import time\n",
        "from datetime import datetime, timedelta\n",
        "\n",
        "\n",
        "pair = 'ETH-BTC' #'ETH-USD' #'BTC-USD'\n",
        "pair2 = 'ETH-USD'\n",
        "pair3 = 'ETH-BTC'\n",
        "windowSize = 200 #sliding window of 200 data points / max only 300 candles per requests \n",
        "#apiUrl = \"https://api.exchange.coinbase.com\"\n",
        "apiUrl = 'https://api.pro.coinbase.com'\n",
        "\n",
        "\n",
        "# work with Timeframe\n",
        "timeEnd = date.today()#datetime.now()\n",
        "delta = timedelta(days = 1) #intra-day\n",
        "timeStart = timeEnd - (windowSize - 1) * delta\n",
        "timeStart, timeEnd = timeStart.isoformat(), timeEnd.isoformat()\n",
        "#print('timeStart: ', timeStart,' timeEnd: ', timeEnd)\n",
        "# work with Timeframe\n",
        "\n",
        "parameters = {'start':timeStart,\n",
        "          'end':timeEnd,\n",
        "          'granularity': 86400} \n",
        " #The granularity field must be one of the following values: \n",
        " #{60, 300, 900, 3600, 21600, 86400}. \n",
        " #Otherwise, your request will be rejected. \n",
        " #These values correspond to timeslices representing \n",
        " #one minute, five minutes, fifteen minutes, one hour, six hours, and one day, respectively.\n",
        " \n",
        "\n",
        "print(parameters)\n",
        "\n",
        "\n",
        "response = requests.get(f\"{apiUrl}/products/{pair}/candles\",\n",
        "                        params = parameters,\n",
        "                        headers = {'content-type':'application/json'})\n",
        "\n",
        "'''\n",
        "Response Items\n",
        "Each bucket is an array of the following information:\n",
        "\n",
        "time bucket start time\n",
        "low lowest price during the bucket interval\n",
        "high highest price during the bucket interval\n",
        "open opening price (first trade) in the bucket interval\n",
        "close closing price (last trade) in the bucket interval\n",
        "volume volume of trading activity during the bucket interval\n",
        "'''\n",
        "print(response.text)\n",
        "print(len(response.text))\n",
        "\n",
        "df = pd.DataFrame(response.json(),\n",
        "                  columns = ['time', 'low', 'high', 'open', 'close', 'volume'])\n",
        "\n",
        "df['date'] = pd.to_datetime(df['time'], unit='s')\n",
        "df = df[['date', 'open', 'high', 'low', 'close', 'volume']]\n",
        "df.set_index('date', inplace = True)\n",
        "\n",
        "print(df)\n",
        "print(pair)\n",
        "a = sum(df['close'] * df['volume']) / sum(df['volume'])\n",
        "print(windowSize,'days VWAP',a)\n",
        "\n",
        "df[['close', 'volume']].plot.line(subplots=True)"
      ],
      "execution_count": 251,
      "outputs": [
        {
          "output_type": "stream",
          "name": "stdout",
          "text": [
            "{'start': '2021-04-25', 'end': '2021-11-10', 'granularity': 86400}\n",
            "[[1636502400,0.07037,0.07101,0.0707,0.07074,1314.96295434],[1636416000,0.07022,0.0718,0.07121,0.07069,10811.15997216],[1636329600,0.07093,0.07294,0.0729,0.07121,14897.52053634],[1636243200,0.0729,0.07478,0.0735,0.07293,8816.45802449],[1636156800,0.07203,0.07376,0.07342,0.07352,7202.58894783],[1636070400,0.07283,0.07387,0.07384,0.07341,9761.60679465],[1635984000,0.07262,0.07399,0.07318,0.07385,12228.15314842],[1635897600,0.07222,0.07464,0.07263,0.07319,20115.80676978],[1635811200,0.06998,0.07307,0.07094,0.07262,36025.62798176],[1635724800,0.06916,0.07132,0.06994,0.07092,24140.36435101],[1635638400,0.06912,0.07121,0.06988,0.06993,9771.76836692],[1635552000,0.06932,0.07111,0.07099,0.06987,8886.31484748],[1635465600,0.0702,0.07179,0.07077,0.07096,19174.43994384],[1635379200,0.06697,0.07136,0.06712,0.07075,23700.2526245],[1635292800,0.067,0.07033,0.06847,0.06712,22798.36450047],[1635206400,0.0668,0.06938,0.06693,0.06846,13633.70894736],[1635120000,0.06531,0.06723,0.06712,0.06693,10884.11216342],[1635033600,0.06624,0.06816,0.06799,0.0671,8924.1387644],[1634947200,0.06519,0.06808,0.06544,0.06801,11143.83035776],[1634860800,0.06459,0.06595,0.06517,0.06544,14477.15857637],[1634774400,0.06289,0.0663,0.06309,0.06517,29930.09176459],[1634688000,0.06004,0.06316,0.06032,0.06306,21531.24337989],[1634601600,0.0593,0.0614,0.06035,0.0603,20872.80419039],[1634515200,0.06016,0.06271,0.06253,0.06035,13677.09302191],[1634428800,0.06175,0.06444,0.06293,0.06251,9128.47537965],[1634342400,0.06192,0.06447,0.06271,0.06291,11037.24651822],[1634256000,0.06192,0.06621,0.0661,0.06272,24636.35066364],[1634169600,0.06205,0.0669,0.06291,0.06609,17570.21593243],[1634083200,0.06121,0.06324,0.06235,0.06288,12185.90444613],[1633996800,0.05994,0.06339,0.06163,0.06233,15858.82831704],[1633910400,0.06084,0.064,0.06246,0.06161,17477.56870969],[1633824000,0.06245,0.06511,0.06503,0.06245,10349.37303491],[1633737600,0.06496,0.0675,0.06605,0.06505,6535.45120899],[1633651200,0.065,0.06699,0.0667,0.06604,11428.8349568],[1633564800,0.06403,0.06727,0.06461,0.06672,17268.86893382],[1633478400,0.0645,0.06881,0.0683,0.06463,23158.53578715],[1633392000,0.06795,0.06918,0.06878,0.0683,37052.24494224],[1633305600,0.06872,0.07102,0.0709,0.06877,16935.5594075],[1633219200,0.07045,0.07175,0.07111,0.0709,8038.11226055],[1633132800,0.06843,0.07196,0.06874,0.0711,10525.06014993],[1633046400,0.06738,0.06971,0.06846,0.06873,14446.2582021],[1632960000,0.06834,0.06975,0.06862,0.06848,9635.87924105],[1632873600,0.06794,0.06947,0.06841,0.06865,10421.4316835],[1632787200,0.06798,0.06992,0.06939,0.06839,7959.48877291],[1632700800,0.06917,0.07166,0.0709,0.06942,7543.58829151],[1632614400,0.06668,0.07119,0.06849,0.07091,9673.8394716],[1632528000,0.06726,0.06918,0.06838,0.06851,8478.82919946],[1632441600,0.06651,0.07029,0.07023,0.06841,15217.10401394],[1632355200,0.06988,0.07126,0.07065,0.07025,7193.21009142],[1632268800,0.06741,0.07066,0.06791,0.07066,9775.08392016],[1632182400,0.06696,0.07118,0.06919,0.0679,26698.24640317],[1632096000,0.06871,0.0709,0.07046,0.06923,16584.73679212],[1632009600,0.06979,0.0717,0.07111,0.07045,5723.67721566],[1631923200,0.07028,0.07275,0.07186,0.07112,7860.90118912],[1631836800,0.07151,0.07489,0.07472,0.07186,9569.40865256],[1631750400,0.07404,0.07609,0.07511,0.07474,17865.13451628],[1631664000,0.07164,0.0751,0.0729,0.0751,19095.43399515],[1631577600,0.07158,0.0737,0.07308,0.0729,14302.09634284],[1631491200,0.07129,0.07414,0.07398,0.07308,24698.96895222],[1631404800,0.07205,0.07524,0.07231,0.07398,9496.14499076],[1631318400,0.0715,0.07314,0.07155,0.07234,7933.93420909],[1631232000,0.07088,0.07476,0.07382,0.07159,13264.33844153],[1631145600,0.07369,0.07669,0.07599,0.07378,12462.35265359],[1631059200,0.0722,0.07638,0.0733,0.07598,23452.69692336],[1630972800,0.06941,0.07522,0.07455,0.07328,29014.63495373],[1630886400,0.07445,0.0768,0.07629,0.07454,9150.85587405],[1630800000,0.07603,0.07875,0.07786,0.07631,8526.71858862],[1630713600,0.07703,0.07923,0.07878,0.07784,12076.59340564],[1630627200,0.0764,0.07948,0.07688,0.07877,16929.12767817],[1630540800,0.07456,0.07842,0.07839,0.07686,19165.16938274],[1630454400,0.07248,0.07861,0.07281,0.07842,27839.66435456],[1630368000,0.06831,0.07293,0.06875,0.07283,32794.42680896],[1630281600,0.06578,0.06918,0.06615,0.06871,11825.67874181],[1630195200,0.06562,0.06659,0.06636,0.06612,6757.36960621],[1630108800,0.06599,0.06689,0.06674,0.06638,6121.55328917],[1630022400,0.06572,0.06744,0.06604,0.06674,7663.18694653],[1629936000,0.0654,0.06662,0.06591,0.06605,9922.7695263],[1629849600,0.06523,0.06682,0.06652,0.06589,7891.33925922],[1629763200,0.0658,0.06771,0.06716,0.0665,8558.66470144],[1629676800,0.06541,0.06761,0.06577,0.0671,11269.15184734],[1629590400,0.06488,0.06649,0.06603,0.06578,5936.63880608],[1629504000,0.06555,0.06755,0.06658,0.066,8762.4871385],[1629417600,0.06622,0.06872,0.06821,0.06662,9653.65293043],[1629331200,0.06631,0.0682,0.06742,0.0682,10565.16520331],[1629244800,0.06652,0.06804,0.06738,0.06741,10239.00259629],[1629158400,0.0672,0.06994,0.06853,0.06738,13251.95812269],[1629072000,0.06853,0.07052,0.07043,0.06856,10135.26494472],[1628985600,0.06812,0.07045,0.06933,0.07043,11815.18346498],[1628899200,0.06907,0.06998,0.0695,0.06933,7297.73899398],[1628812800,0.06848,0.07039,0.06861,0.06949,12855.584752],[1628726400,0.06784,0.07032,0.06944,0.06861,13257.78127656],[1628640000,0.06883,0.07027,0.06891,0.06942,10452.43060672],[1628553600,0.06767,0.07014,0.06834,0.0689,12223.89138856],[1628467200,0.06688,0.0691,0.06877,0.06837,17434.6035807],[1628380800,0.06786,0.072,0.07086,0.06876,19381.25751806],[1628294400,0.06705,0.07151,0.06749,0.07087,30191.7328852],[1628208000,0.06659,0.06965,0.06921,0.0675,23849.36426037],[1628121600,0.06758,0.07328,0.06861,0.06922,29982.81849623],[1628035200,0.06524,0.06936,0.06568,0.06861,16889.94571312],[1627948800,0.06394,0.06673,0.06659,0.06566,14442.12981198],[1627862400,0.06355,0.06707,0.06411,0.06662,17810.30977024],[1627776000,0.06104,0.06508,0.06105,0.06411,17880.82384707],[1627689600,0.05813,0.06121,0.05833,0.06104,10815.25876888],[1627603200,0.05832,0.06094,0.05959,0.05833,16194.08248065],[1627516800,0.05722,0.0597,0.05748,0.05958,9818.25024642],[1627430400,0.05704,0.05843,0.05826,0.05747,13011.41787914],[1627344000,0.05828,0.06036,0.05981,0.05828,12825.83008811],[1627257600,0.05849,0.06257,0.06189,0.05981,25759.3974109],[1627171200,0.0619,0.06385,0.06378,0.0619,5382.79702816],[1627084800,0.06283,0.06408,0.06316,0.06377,6342.82148982],[1626998400,0.06226,0.06385,0.06272,0.06318,9605.706632],[1626912000,0.06143,0.06286,0.06207,0.0627,10782.2234839],[1626825600,0.05947,0.06221,0.05995,0.06206,12663.41083345],[1626739200,0.05782,0.06065,0.05899,0.05995,12378.57689092],[1626652800,0.0588,0.06021,0.05951,0.05898,8505.06324689],[1626566400,0.0595,0.06207,0.06027,0.0595,7449.51871206],[1626480000,0.05909,0.06027,0.05979,0.06027,7156.20069704],[1626393600,0.05913,0.06134,0.06026,0.05978,8105.41872938],[1626307200,0.05969,0.06165,0.06077,0.06026,8337.60916564],[1626220800,0.05842,0.06141,0.05927,0.06077,11720.7725402],[1626134400,0.05928,0.06155,0.06145,0.05929,13109.01872713],[1626048000,0.06106,0.06298,0.06248,0.06143,8246.4502508],[1625961600,0.06236,0.06332,0.063,0.06243,4401.15003404],[1625875200,0.06211,0.06407,0.06348,0.06299,7857.49752123],[1625788800,0.06316,0.06511,0.06438,0.06349,13010.97291117],[1625702400,0.06415,0.06889,0.06841,0.06437,15699.85646019],[1625616000,0.06746,0.06903,0.06786,0.06842,8315.52326818],[1625529600,0.06511,0.06858,0.06512,0.06787,12460.4754312],[1625443200,0.06476,0.0669,0.06583,0.06518,10089.8567052],[1625356800,0.06366,0.06663,0.06425,0.06582,12546.79619505],[1625270400,0.06337,0.06449,0.06378,0.06422,6284.17947408],[1625184000,0.06152,0.06403,0.06288,0.06377,11697.11687293],[1625097600,0.06268,0.06497,0.06494,0.06288,14625.87011261],[1625011200,0.05998,0.06535,0.0603,0.06495,17339.50982777],[1624924800,0.06019,0.06172,0.06045,0.06031,19374.81668224],[1624838400,0.05697,0.062,0.05717,0.06042,25929.96522758],[1624752000,0.05521,0.05724,0.05671,0.05716,19026.99609009],[1624665600,0.0561,0.05755,0.05731,0.0567,23022.85772931],[1624579200,0.05498,0.0584,0.05741,0.0573,79757.15536626],[1624492800,0.05698,0.0588,0.05841,0.0574,7839.85045218],[1624406400,0.05703,0.05961,0.05778,0.05843,18154.62655256],[1624320000,0.05744,0.06096,0.05965,0.05779,31058.79033733],[1624233600,0.05908,0.06346,0.06317,0.05965,32982.32717233],[1624147200,0.06092,0.06356,0.06102,0.06316,13376.94319317],[1624060800,0.06102,0.06312,0.06237,0.06102,9213.26386392],[1623974400,0.06036,0.06245,0.0623,0.06236,15617.35539752],[1623888000,0.06097,0.06276,0.06176,0.0623,13191.70662516],[1623801600,0.06144,0.06338,0.06334,0.06173,11728.05109639],[1623715200,0.06297,0.06515,0.06372,0.06332,12571.65887604],[1623628800,0.062,0.06447,0.06431,0.0637,18837.84937178],[1623542400,0.06355,0.06759,0.0667,0.0643,10780.53974694],[1623456000,0.06281,0.06818,0.06306,0.06669,14721.72592239],[1623369600,0.06266,0.06744,0.06734,0.06303,16833.39335077],[1623283200,0.06674,0.06992,0.06977,0.06736,21957.34834434],[1623196800,0.06931,0.07532,0.07511,0.06979,22128.82007027],[1623110400,0.07434,0.07752,0.07721,0.07515,16790.0708625],[1623024000,0.07551,0.07786,0.07576,0.07723,20310.48548141],[1622937600,0.07362,0.07595,0.07399,0.07573,9503.28035817],[1622851200,0.07262,0.07489,0.07301,0.07399,14959.86319238],[1622764800,0.07117,0.07357,0.07281,0.073,9640.24128024],[1622678400,0.07158,0.074,0.07203,0.07282,10256.5265267],[1622592000,0.0709,0.07354,0.0718,0.07203,15676.33084582],[1622505600,0.0704,0.07284,0.07263,0.07182,18461.93099505],[1622419200,0.066,0.07273,0.06695,0.07264,28963.48044529],[1622332800,0.0651,0.06851,0.0658,0.06695,16467.7263111],[1622246400,0.06505,0.06999,0.06762,0.06585,21815.79271916],[1622160000,0.067,0.07156,0.07119,0.06764,30530.22437121],[1622073600,0.07038,0.07364,0.07355,0.07119,23198.94457403],[1621987200,0.06932,0.07358,0.07059,0.07355,35864.18605961],[1621900800,0.06489,0.07108,0.06823,0.07055,52945.53103305],[1621814400,0.05987,0.0685,0.06047,0.06823,94260.16160197],[1621728000,0.055,0.06242,0.06128,0.06047,90686.114017],[1621641600,0.06,0.06548,0.06523,0.06128,45525.3622736],[1621555200,0.06266,0.07036,0.06832,0.06521,76918.44806059],[1621468800,0.061,0.071,0.06647,0.06833,123862.43124248],[1621382400,0.061,0.07946,0.07872,0.06644,128832.99284613],[1621296000,0.07498,0.08005,0.07534,0.07878,37187.35735078],[1621209600,0.07395,0.07879,0.07716,0.07534,49622.05056346],[1621123200,0.07441,0.08021,0.078,0.07719,45730.36695171],[1621036800,0.0776,0.0824,0.08176,0.07799,37740.40929453],[1620950400,0.07446,0.08208,0.07487,0.08177,39425.17506504],[1620864000,0.07348,0.08097,0.0772,0.07486,84661.70958265],[1620777600,0.07273,0.08078,0.07366,0.0772,72248.89003331],[1620691200,0.069,0.07368,0.07071,0.07364,39175.63285153],[1620604800,0.06608,0.07378,0.06735,0.07072,83001.24934808],[1620518400,0.06533,0.06891,0.06646,0.06737,43196.440482],[1620432000,0.05983,0.06737,0.06073,0.06645,50810.73766244],[1620345600,0.06014,0.06217,0.06189,0.06073,26095.76965838],[1620259200,0.05966,0.06341,0.06136,0.06188,44356.14310168],[1620172800,0.05667,0.06198,0.06088,0.06135,62838.96052241],[1620086400,0.05734,0.06349,0.06005,0.0609,104076.97634151],[1620000000,0.0518,0.06085,0.05213,0.06005,82298.67039441],[1619913600,0.05081,0.05265,0.05097,0.05214,24833.56987272],[1619827200,0.04735,0.05124,0.04803,0.05097,35346.12265484],[1619740800,0.0465,0.05174,0.05148,0.04805,56286.14122199],[1619654400,0.0495,0.052,0.05012,0.05149,49220.9982331],[1619568000,0.04755,0.05037,0.04843,0.05012,53992.33103657],[1619481600,0.04646,0.04867,0.04691,0.04842,24477.16306496],[1619395200,0.04596,0.048,0.04729,0.0469,28509.20022907],[1619308800,0.04393,0.0478,0.04424,0.04727,26691.17941163]]\n",
            "11796\n",
            "               open     high      low    close        volume\n",
            "date                                                        \n",
            "2021-11-10  0.07070  0.07101  0.07037  0.07074   1314.962954\n",
            "2021-11-09  0.07121  0.07180  0.07022  0.07069  10811.159972\n",
            "2021-11-08  0.07290  0.07294  0.07093  0.07121  14897.520536\n",
            "2021-11-07  0.07350  0.07478  0.07290  0.07293   8816.458024\n",
            "2021-11-06  0.07342  0.07376  0.07203  0.07352   7202.588948\n",
            "...             ...      ...      ...      ...           ...\n",
            "2021-04-29  0.05012  0.05200  0.04950  0.05149  49220.998233\n",
            "2021-04-28  0.04843  0.05037  0.04755  0.05012  53992.331037\n",
            "2021-04-27  0.04691  0.04867  0.04646  0.04842  24477.163065\n",
            "2021-04-26  0.04729  0.04800  0.04596  0.04690  28509.200229\n",
            "2021-04-25  0.04424  0.04780  0.04393  0.04727  26691.179412\n",
            "\n",
            "[200 rows x 5 columns]\n",
            "ETH-BTC\n",
            "200 days VWAP 0.06623010268109356\n"
          ]
        },
        {
          "output_type": "execute_result",
          "data": {
            "text/plain": [
              "array([<matplotlib.axes._subplots.AxesSubplot object at 0x7efdd62eaf50>,\n",
              "       <matplotlib.axes._subplots.AxesSubplot object at 0x7efdd5a83f10>],\n",
              "      dtype=object)"
            ]
          },
          "metadata": {},
          "execution_count": 251
        },
        {
          "output_type": "display_data",
          "data": {
            "image/png": "[encoded data removed]",
            "text/plain": [
              "<Figure size 432x288 with 2 Axes>"
            ]
          },
          "metadata": {
            "needs_background": "light"
          }
        }
      ]
    }
  ]
}