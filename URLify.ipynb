{
  "nbformat": 4,
  "nbformat_minor": 0,
  "metadata": {
    "colab": {
      "name": "URLify.ipynb",
      "provenance": [],
      "authorship_tag": "ABX9TyMkgM0JhhyxvsRk+/8Gnsi2",
      "include_colab_link": true
    },
    "kernelspec": {
      "name": "python3",
      "display_name": "Python 3"
    },
    "language_info": {
      "name": "python"
    }
  },
  "cells": [
    {
      "cell_type": "markdown",
      "metadata": {
        "id": "view-in-github",
        "colab_type": "text"
      },
      "source": [
        "<a href=\"https://colab.research.google.com/github/YaokunLin/C-Instructions/blob/main/URLify.ipynb\" target=\"_parent\"><img src=\"https://colab.research.google.com/assets/colab-badge.svg\" alt=\"Open In Colab\"/></a>"
      ]
    },
    {
      "cell_type": "code",
      "metadata": {
        "id": "eFW6h0xXALMp"
      },
      "source": [
        "#Write a method to replace all spaces with a string with '%20'.\n",
        "# You may assume that the string has sufficient space at the end to hold the additional characters, \n",
        "# and that you are given the \"true\" length of the string. "
      ],
      "execution_count": null,
      "outputs": []
    },
    {
      "cell_type": "code",
      "metadata": {
        "id": "LI0fxq8aAwf2"
      },
      "source": [
        "def URLify(inputString,trueLength):\n",
        "  returnString=''\n",
        "  for i in range(trueLength):\n",
        "    if inputString[i]==' ':\n",
        "      returnString=returnString+'%20'\n",
        "    else:\n",
        "      returnString=returnString+inputString[i]\n",
        "  return returnString"
      ],
      "execution_count": null,
      "outputs": []
    },
    {
      "cell_type": "code",
      "metadata": {
        "id": "PWimtWGuBXuP",
        "colab": {
          "base_uri": "https://localhost:8080/",
          "height": 35
        },
        "outputId": "95027824-496d-4d96-b361-1b2d347d4b19"
      },
      "source": [
        "URLify('Mr John Smith     ',13)"
      ],
      "execution_count": null,
      "outputs": [
        {
          "output_type": "execute_result",
          "data": {
            "application/vnd.google.colaboratory.intrinsic+json": {
              "type": "string"
            },
            "text/plain": [
              "'Mr%20John%20Smith'"
            ]
          },
          "metadata": {
            "tags": []
          },
          "execution_count": 2
        }
      ]
    }
  ]
}